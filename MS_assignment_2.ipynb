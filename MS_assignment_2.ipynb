{
  "cells": [
    {
      "metadata": {
        "trusted": true
      },
      "cell_type": "markdown",
      "source": "# 数理統計学(2019)　課題2\n\n### このnotebookには、いくつかの設問が記載されています。\n### 先頭から順番に、指示に従ってPython Codeをcellに記述してください。\n### codeを記述するcellは、各自適切に生成してください。\n\n## 課題提出方法\n### 各自のGitHubに、学籍番号_MS2（たとえば、C180001_MS2）という名称のrepositoryを作成してください。\n### このnotebookを各自のGitHubのリポジトリ（学籍番号_MS2)へコピーしてください。\n### このnotebookに記載されたcodeがデータファイルを参照している場合、そのデータファイルも必ずGitHubのリポジトリへコピーしてください。\n### 各自のGitHubのリポジトリをoffice 365のメールアカウントを使用して、sugimura@ccg.ac.jpへ送信してください。メールの件名は、学籍番号_MS2としてください。\n### 【重要】指定された方法で課題を提出することも課題に含まれています。"
    },
    {
      "metadata": {},
      "cell_type": "markdown",
      "source": "## 事前学習\n### 課題に取り組む前に以下の事項を読んでください。\n\n\n### データの種類\n#### 代表的なデータの種類について説明します。\n\n##### 数値データ\n数値データは、定量データの測定に用いられます。-------身長、株価など\n\n数値データには、離散データと連続データとがあります。\n+ 離散データ-------ショッピングサイトで顧客が購買した商品の個数、SNSにおける「いいね！」の回数\n+ 連続データ-------ログインからログアウトまでの時間、一日の降水量\n\n##### カテゴリデータ\nカテゴリデータは、Yes/No、住所地、業種など、数学的な意味を持たないデータです。\n\n##### 順序データ\n順序データは、数値データとカテゴリデータとの中間的なデータです。\n\n数学的な意味を持つカテゴリデータと言うことができます。\n\nたとえば、映画やレストランの5段階評価：1，2，3，4，5などは順序データです。評価の値1、2、3、4、5は数学的な意味を持っています。\n\n\n### 平均値、中央値、モード、標準偏差\n\n#### 数値データの特徴を表す指標として、平均値、中央値、モード、標準偏差などが用いられます。これらは、最も基本的な統計量です。\n\n#### 平均値\n##### 平均値は、合計値／サンプル数　によって計算することができます。\n\n\n実際に、平均値（期待値と呼ぶこともある）を計算しよう。\n\n\n$$ \\mu = \\frac{1}{N} \\sum_{i=1}^{N} x_i $$　　　\n\n\n平均値muを計算するためには、合計sum_scoreとサンプルの個数（サンプルサイズ）Nとを用います。\n\nmu = sum_score / N　　　\n\n\n#### 中央値\n##### 中央値は、値をソートして（昇順または降順に並べる）、中央の値を選びます。\n例：\n\n最初のデータ　　：0，2，3，2，1，0，0，2，0\n\nソート後のデータ：0，0，0, 0，1，2，2，2，3\n\n中央値：小さい方から5番目の値である1が中央値です。\n\nなお、サンプル数が偶数であるとき、中央にある2つの値の平均を中央値とします。\n\n#### モード\n##### モードは、データセット(data set)において出現頻度が最も高い値です。\n連続数値データの場合、モードを決めることはできません。\n\nたとえば、\n\nデータセット：0, 2, 3, 2, 1, 0, 0, 2, 0\n\nにおけるモードは、0です。\n\n\n#### 標準偏差 ####\n\n標準偏差は、分散の平方根である。分散は、元のデータが2乗された次元(dimension)をもっているので、そのままでは、データを扱い難いです。そこで、分散の平方根である標準偏差が使われます。標準偏差の計算式は以下の通りです。\n\n$$ \\sigma = \\sqrt{\\sigma^2} = \\sqrt{\\frac{1}{N-1}\\sum_{i=1}^N (x_i - \\mu)^2}  $$　　　"
    },
    {
      "metadata": {},
      "cell_type": "markdown",
      "source": "### 【設問のための準備】\n\n#### Pythonにおいて数値計算を行うためのモジュルnumpyをインポートし、numpy数値計算ライブラリを利用できるように設定した後、\n#### numpyのメソッドnumpy.random.normal(60, 15, 50)を実行して、平均=60、標準偏差=15、個数=50である乱数からなるリストを発生させ、\n#### データファイル data_a1.csv に出力しました。\n#### 実際には、numpy.random.normalによって発生されるデータは、numpy.ndarray型ですが、リスト型に変換した後にファイルに保存しました。\n#### このデータは、リスト型データdata_a1に読み込まれています。\n#### さらに、このリスト型データdata_a1のいくつかの要素を書き換えたリスト型データdata_a2も準備しました。\n#### 以下では、これらのリスト型データdata_a1とリスト型データdata_a2に関して、設問に解答してください。\n"
    },
    {
      "metadata": {
        "trusted": true
      },
      "cell_type": "code",
      "source": "#必要なライブラリをインポートします。最初に、このセルを必ず実行してください。\n\nimport numpy as np\nimport csv\n",
      "execution_count": 1,
      "outputs": []
    },
    {
      "metadata": {
        "trusted": true
      },
      "cell_type": "code",
      "source": "#　ファイル data_a1.csv からデータを読み出して、リスト型データ data_a1　に保存します。このセルを実行してください。\nwith open('data_a1.csv') as f1:\n    reader = csv.reader(f1)\n    for row in reader:\n        data_a1 = row\nf1.close()",
      "execution_count": 2,
      "outputs": []
    },
    {
      "metadata": {
        "trusted": true
      },
      "cell_type": "code",
      "source": "#　ファイル data_a2.csv からデータを読み出して、リスト型データ data_a2　に保存します。このセルを実行してください。\nwith open('data_a2.csv') as f2:\n    reader = csv.reader(f2)\n    for row in reader:\n        data_a2 = row\nf2.close()",
      "execution_count": 3,
      "outputs": []
    },
    {
      "metadata": {},
      "cell_type": "markdown",
      "source": "### 準備完了です。では、設問に解答してください。"
    },
    {
      "metadata": {},
      "cell_type": "markdown",
      "source": "## 【設問1】\n### リスト型データdata_a1の要素は文字列型です。そこで、文字列のリストをfloat型数値のリストdata_b1に変換してください。\n\n#### ヒント：文字列sは、float(s)によってfloat型数値に変換できます。"
    },
    {
      "metadata": {
        "trusted": true,
        "scrolled": true
      },
      "cell_type": "code",
      "source": "data_a1 = [60,15,50]\ndata_b1 = [float (s) for s in data_a1]\nprint(data_b1)",
      "execution_count": 3,
      "outputs": [
        {
          "output_type": "stream",
          "text": "[60.0, 15.0, 50.0]\n",
          "name": "stdout"
        }
      ]
    },
    {
      "metadata": {},
      "cell_type": "markdown",
      "source": "## 【設問2】\n### float型のリストdata_b1をint型のリストdata_c1に変換してください。\n#### float型データxは、int(x)によってint型数値に変換できます。"
    },
    {
      "metadata": {
        "trusted": true
      },
      "cell_type": "code",
      "source": "data_c1 = [int (s) for s in data_b1]\nprint(data_c1)",
      "execution_count": 4,
      "outputs": [
        {
          "output_type": "stream",
          "text": "[60, 15, 50]\n",
          "name": "stdout"
        }
      ]
    },
    {
      "metadata": {},
      "cell_type": "markdown",
      "source": "## 【設問3】\n### 設問1、設問2と同様に、文字列型のリストdata_a2をint型のリストdata_c2に変換してください。\n#### ヒント：リスト内包表記を用いると、1行のコードで変換を実現できます。"
    },
    {
      "metadata": {
        "trusted": true
      },
      "cell_type": "code",
      "source": "data_a2 = ['60','15','50']\ndata_c2= list(map(int, data_a2)) \nprint(str(data_c2))\n",
      "execution_count": 13,
      "outputs": [
        {
          "output_type": "stream",
          "text": "[60, 15, 50]\n",
          "name": "stdout"
        }
      ]
    },
    {
      "metadata": {},
      "cell_type": "markdown",
      "source": "## 【設問4】\n#### 整数型のリストdata_c1の平均値を上記計算式を使って計算してください。"
    },
    {
      "metadata": {},
      "cell_type": "markdown",
      "source": "## statisticsモジュール\n### Pythonのstatisticsモジュールを用いると、リスト型データの平均、中央値、標準偏差などを計算することができます。\n### 準備のためstatisticsモジュールから必要なライブラリをインポートします。"
    },
    {
      "metadata": {
        "trusted": true
      },
      "cell_type": "code",
      "source": "#　このセルを必ず実行してください。\nfrom statistics import mean, median, stdev\n\naverage =sum(data_c1)/len(data_c1)\nprint(average)\n",
      "execution_count": 6,
      "outputs": [
        {
          "output_type": "stream",
          "text": "41.666666666666664\n",
          "name": "stdout"
        }
      ]
    },
    {
      "metadata": {},
      "cell_type": "markdown",
      "source": "## 【設問5】\n#### statisticsモジュールを使って整数型リストdata_c1の平均、中央値、標準偏差を求めてください。"
    },
    {
      "metadata": {
        "trusted": true
      },
      "cell_type": "code",
      "source": "avg1=mean(data_c1)\nprint(avg1)\navg2=median(data_c1)\nprint(avg2)\navg3=stdev(data_c1)\nprint(avg3)\n\n",
      "execution_count": 7,
      "outputs": [
        {
          "output_type": "stream",
          "text": "41.666666666666664\n50\n23.629078131263043\n",
          "name": "stdout"
        }
      ]
    },
    {
      "metadata": {},
      "cell_type": "markdown",
      "source": "## 【設問6】\n#### statisticsモジュールを使って整数型リストdata_c2の平均、中央値、標準偏差を求めてください。"
    },
    {
      "metadata": {
        "trusted": true
      },
      "cell_type": "code",
      "source": "import numpy as np\nnp.mean(data_c2)\nnp.median(data_c2)\n",
      "execution_count": 14,
      "outputs": [
        {
          "output_type": "execute_result",
          "execution_count": 14,
          "data": {
            "text/plain": "50.0"
          },
          "metadata": {}
        }
      ]
    },
    {
      "metadata": {},
      "cell_type": "markdown",
      "source": "## 【準備】\n### データdata_c1は、正規分布にしたがったデータです。データdata_c1のヒストグラムを表示します。"
    },
    {
      "metadata": {
        "trusted": true
      },
      "cell_type": "code",
      "source": "#グラフを描画するためのモジュールをインポートします\nimport matplotlib.pyplot as plt\n#Jupyter Notebookにグラフを表示するための命令です\n%matplotlib inline\n\nplt.hist(data_c1, 25)\nplt.show()",
      "execution_count": 19,
      "outputs": [
        {
          "output_type": "display_data",
          "data": {
            "image/png": "[encoded data removed]",
            "text/plain": "<Figure size 432x288 with 1 Axes>"
          },
          "metadata": {
            "needs_background": "light"
          }
        }
      ]
    },
    {
      "metadata": {},
      "cell_type": "markdown",
      "source": "### データdata_c1は、平均からわずかに大きい値の出現頻度が少ないようですが、全体的には、平均を中心として左右になだらかな勾配を持つ正規分布の特徴を示しています。\n\n### 次に、データdata_c2について調べましょう。data_c2は、data_c1の中の2つの要素の値を変更することによって得られたデータです。\n### 設問6でわかったように、data_c1とdata_c2とを比べると、中央値はほとんど同じ値ですが、平均と標準偏差が大きく異なります。\n### data_c1とdata_c2の要素の個数は、1000個です。そのうち、2個の要素の値を変えると、平均値が大幅に変化したことになります。\n### では、data_c2は、data_c1の2個の要素の値をどのように変化させたのでしょう。\n### その原因を突き止めましょう。"
    },
    {
      "metadata": {},
      "cell_type": "markdown",
      "source": "## 【設問7】\n### data_c1のヒストグラムと同様に、data_c2のヒストグラムを表示させてください。"
    },
    {
      "metadata": {},
      "cell_type": "markdown",
      "source": "### 上のヒストグラムからどんなことがわかりますか？\n### ヒストグラムの横軸の値（データの値）が0から20,000まで広がっています。\n### しかし、値の度数（出現頻度）を表す縦軸は、左端（およそ0から800の範囲）に集中しています。\n### ここからわかることは、出現頻度は少ないけれど、極端に大きな値（異常値）を持つ要素が存在することです。"
    },
    {
      "metadata": {
        "trusted": true
      },
      "cell_type": "code",
      "source": "#グラフを描画するためのモジュールをインポートします\nimport matplotlib.pyplot as plt\n#Jupyter Notebookにグラフを表示するための命令です\n%matplotlib inline\n\nplt.hist(data_c2, 60)\nplt.show()",
      "execution_count": 42,
      "outputs": [
        {
          "output_type": "display_data",
          "data": {
            "image/png": "[encoded data removed]",
            "text/plain": "<Figure size 432x288 with 1 Axes>"
          },
          "metadata": {
            "needs_background": "light"
          }
        }
      ]
    },
    {
      "metadata": {},
      "cell_type": "markdown",
      "source": "## 【設問8】\n### データdata_c2から異常値（外れ値と呼ぶこともあります）を除去したデータdata_c3を作成してください。\n#### ヒント： データセットの中央値からある値以上離れている要素を除去することにより、外れ値を除去することができます。\n#### ある値として、標準偏差の2倍を用いてください。\n#### 得られたデータdata_c3の要素の個数を表示してください。\n"
    },
    {
      "metadata": {
        "trusted": true
      },
      "cell_type": "code",
      "source": "data_c3=stdev(data_c2)\nprint (data_c3)\n",
      "execution_count": 48,
      "outputs": [
        {
          "output_type": "stream",
          "text": "23.629078131263043\n",
          "name": "stdout"
        }
      ]
    },
    {
      "metadata": {},
      "cell_type": "markdown",
      "source": "## 【設問9】\n### 得られたデータdata_c3のヒストグラムを表示してください。"
    },
    {
      "metadata": {
        "trusted": true
      },
      "cell_type": "code",
      "source": "#グラフを描画するためのモジュールをインポートします\nimport matplotlib.pyplot as plt\n#Jupyter Notebookにグラフを表示するための命令です\n%matplotlib inline\n\nplt.hist(data_c3,23)\nplt.show()",
      "execution_count": 29,
      "outputs": [
        {
          "output_type": "display_data",
          "data": {
            "image/png": "[encoded data removed]",
            "text/plain": "<Figure size 432x288 with 1 Axes>"
          },
          "metadata": {
            "needs_background": "light"
          }
        }
      ]
    },
    {
      "metadata": {},
      "cell_type": "markdown",
      "source": "## 【設問10】\n### 得られたデータdata_c3の平均、中央値、標準偏差を求めてください。"
    },
    {
      "metadata": {
        "trusted": true
      },
      "cell_type": "code",
      "source": "data_c3=int(round(23.629078131263043))\nprint(data_c3)\navg1=mean(data_c3\nprint(avg1)\navg2=median(data_c3\nprint(avg2)\navg3=stdev(data_c3)\nprint(avg3)\n",
      "execution_count": 59,
      "outputs": [
        {
          "output_type": "error",
          "ename": "SyntaxError",
          "evalue": "invalid syntax (<ipython-input-59-e4d50a9ec2db>, line 4)",
          "traceback": [
            "\u001b[0;36m  File \u001b[0;32m\"<ipython-input-59-e4d50a9ec2db>\"\u001b[0;36m, line \u001b[0;32m4\u001b[0m\n\u001b[0;31m    print (avg1)\u001b[0m\n\u001b[0m        ^\u001b[0m\n\u001b[0;31mSyntaxError\u001b[0m\u001b[0;31m:\u001b[0m invalid syntax\n"
          ]
        }
      ]
    },
    {
      "metadata": {
        "trusted": true
      },
      "cell_type": "code",
      "source": "",
      "execution_count": null,
      "outputs": []
    }
  ],
  "metadata": {
    "kernelspec": {
      "name": "python36",
      "display_name": "Python 3.6",
      "language": "python"
    },
    "language_info": {
      "mimetype": "text/x-python",
      "nbconvert_exporter": "python",
      "name": "python",
      "pygments_lexer": "ipython3",
      "version": "3.6.6",
      "file_extension": ".py",
      "codemirror_mode": {
        "version": 3,
        "name": "ipython"
      }
    }
  },
  "nbformat": 4,
  "nbformat_minor": 2
}